{
 "cells": [
  {
   "cell_type": "markdown",
   "metadata": {
    "toc": true
   },
   "source": [
    "<h1>Table of Contents<span class=\"tocSkip\"></span></h1>\n",
    "<div class=\"toc\"><ul class=\"toc-item\"></ul></div>"
   ]
  },
  {
   "cell_type": "code",
   "execution_count": null,
   "metadata": {
    "ExecuteTime": {
     "start_time": "2020-03-10T23:13:59.493Z"
    }
   },
   "outputs": [],
   "source": [
    "clear all\n",
    "clc\n",
    "close all\n",
    "\n",
    "a=[4 25 100]*10^-6;\n",
    "R = [0 : 0.1 : 10]*10^-2;\n",
    "\n",
    "alpha = 2;\n",
    "n2 = 1.5;\n",
    "delta = 0.01;\n",
    "lambda = 10^-6;\n",
    "k=2*pi/lambda;\n",
    "\n",
    "\n",
    "for cont=1:length(a)\n",
    "\n",
    "Mef1=(alpha+2)/(2*alpha*delta);\n",
    "Mef2=2*a(cont)./R;\n",
    "Mef3=(3./(2*n2*k*R)).^(2/3);\n",
    "\n",
    "Mef(cont,:) = 1-(Mef1*(Mef2+Mef3));\n",
    "\n",
    "end\n",
    "\n",
    "figure(1)\n",
    "plot(R,Mef(1,:),'k')\n",
    "hold on\n",
    "plot(R,Mef(2,:),'b')\n",
    "plot(R,Mef(3,:),'r')\n",
    "\n",
    "plot(R,Mef(1,:),'k')\n",
    "\n",
    "xlabel ('Raio de curvatura (R)');\n",
    "ylabel ('Razão entre o número de modos em fibra reta e curvada (Meff/Minf) ');\n",
    "axis([0 10*10^-2 0 1])\n",
    "\n",
    "\n",
    "grid"
   ]
  },
  {
   "cell_type": "code",
   "execution_count": null,
   "metadata": {},
   "outputs": [],
   "source": []
  }
 ],
 "metadata": {
  "kernelspec": {
   "display_name": "Octave",
   "language": "octave",
   "name": "octave"
  },
  "toc": {
   "base_numbering": 1,
   "nav_menu": {},
   "number_sections": true,
   "sideBar": true,
   "skip_h1_title": false,
   "title_cell": "Table of Contents",
   "title_sidebar": "Contents",
   "toc_cell": true,
   "toc_position": {
    "height": "calc(100% - 180px)",
    "left": "10px",
    "top": "150px",
    "width": "165px"
   },
   "toc_section_display": true,
   "toc_window_display": true
  },
  "varInspector": {
   "cols": {
    "lenName": 16,
    "lenType": 16,
    "lenVar": 40
   },
   "kernels_config": {
    "python": {
     "delete_cmd_postfix": "",
     "delete_cmd_prefix": "del ",
     "library": "var_list.py",
     "varRefreshCmd": "print(var_dic_list())"
    },
    "r": {
     "delete_cmd_postfix": ") ",
     "delete_cmd_prefix": "rm(",
     "library": "var_list.r",
     "varRefreshCmd": "cat(var_dic_list()) "
    }
   },
   "types_to_exclude": [
    "module",
    "function",
    "builtin_function_or_method",
    "instance",
    "_Feature"
   ],
   "window_display": false
  }
 },
 "nbformat": 4,
 "nbformat_minor": 2
}
