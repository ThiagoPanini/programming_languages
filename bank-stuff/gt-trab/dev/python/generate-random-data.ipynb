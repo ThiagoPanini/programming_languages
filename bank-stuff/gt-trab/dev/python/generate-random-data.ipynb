{
 "cells": [
  {
   "cell_type": "markdown",
   "metadata": {
    "toc": true
   },
   "source": [
    "<h1>Table of Contents<span class=\"tocSkip\"></span></h1>\n",
    "<div class=\"toc\"><ul class=\"toc-item\"></ul></div>"
   ]
  },
  {
   "cell_type": "code",
   "execution_count": 1,
   "metadata": {
    "ExecuteTime": {
     "end_time": "2020-08-23T16:31:38.230374Z",
     "start_time": "2020-08-23T16:31:37.841307Z"
    }
   },
   "outputs": [],
   "source": [
    "# Bibliotecas do projeto\n",
    "import pandas as pd\n",
    "import numpy as np"
   ]
  },
  {
   "cell_type": "code",
   "execution_count": 2,
   "metadata": {
    "ExecuteTime": {
     "end_time": "2020-08-23T16:32:02.747954Z",
     "start_time": "2020-08-23T16:31:59.691915Z"
    }
   },
   "outputs": [
    {
     "name": "stdout",
     "output_type": "stream",
     "text": [
      "(100000, 12)\n"
     ]
    },
    {
     "data": {
      "text/html": [
       "<div>\n",
       "<style scoped>\n",
       "    .dataframe tbody tr th:only-of-type {\n",
       "        vertical-align: middle;\n",
       "    }\n",
       "\n",
       "    .dataframe tbody tr th {\n",
       "        vertical-align: top;\n",
       "    }\n",
       "\n",
       "    .dataframe thead th {\n",
       "        text-align: right;\n",
       "    }\n",
       "</style>\n",
       "<table border=\"1\" class=\"dataframe\">\n",
       "  <thead>\n",
       "    <tr style=\"text-align: right;\">\n",
       "      <th></th>\n",
       "      <th>mesref</th>\n",
       "      <th>numfunc</th>\n",
       "      <th>racf</th>\n",
       "      <th>dia</th>\n",
       "      <th>dia_baliza</th>\n",
       "      <th>hora</th>\n",
       "      <th>desc_tipo_marcacao</th>\n",
       "      <th>desc_tipo_registro</th>\n",
       "      <th>deptid</th>\n",
       "      <th>database</th>\n",
       "      <th>dt_venc_acordo</th>\n",
       "      <th>codigo</th>\n",
       "    </tr>\n",
       "  </thead>\n",
       "  <tbody>\n",
       "    <tr>\n",
       "      <th>0</th>\n",
       "      <td>202007</td>\n",
       "      <td>8</td>\n",
       "      <td>ABCDEF</td>\n",
       "      <td>2020-07-28</td>\n",
       "      <td>2020-07-28</td>\n",
       "      <td>09:48</td>\n",
       "      <td>Saída</td>\n",
       "      <td>Incluído</td>\n",
       "      <td>475946331</td>\n",
       "      <td>2020-08-21</td>\n",
       "      <td>2020-08-21</td>\n",
       "      <td>TP1021</td>\n",
       "    </tr>\n",
       "    <tr>\n",
       "      <th>1</th>\n",
       "      <td>202008</td>\n",
       "      <td>17</td>\n",
       "      <td>ABCDEF</td>\n",
       "      <td>2020-08-17</td>\n",
       "      <td>2020-08-17</td>\n",
       "      <td>07:03</td>\n",
       "      <td>Entrada</td>\n",
       "      <td>Original</td>\n",
       "      <td>684105844</td>\n",
       "      <td>2020-08-21</td>\n",
       "      <td>2020-08-21</td>\n",
       "      <td>TP1021</td>\n",
       "    </tr>\n",
       "    <tr>\n",
       "      <th>2</th>\n",
       "      <td>202008</td>\n",
       "      <td>93</td>\n",
       "      <td>ABCDEF</td>\n",
       "      <td>2020-08-15</td>\n",
       "      <td>2020-08-15</td>\n",
       "      <td>07:32</td>\n",
       "      <td>Entrada</td>\n",
       "      <td>Incluído</td>\n",
       "      <td>840635800</td>\n",
       "      <td>2020-08-21</td>\n",
       "      <td>2020-08-21</td>\n",
       "      <td>TP1021</td>\n",
       "    </tr>\n",
       "    <tr>\n",
       "      <th>3</th>\n",
       "      <td>202007</td>\n",
       "      <td>85</td>\n",
       "      <td>ABCDEF</td>\n",
       "      <td>2020-07-24</td>\n",
       "      <td>2020-07-24</td>\n",
       "      <td>17:04</td>\n",
       "      <td>Entrada</td>\n",
       "      <td>Incluído</td>\n",
       "      <td>761996758</td>\n",
       "      <td>2020-08-21</td>\n",
       "      <td>2020-08-21</td>\n",
       "      <td>TP1021</td>\n",
       "    </tr>\n",
       "    <tr>\n",
       "      <th>4</th>\n",
       "      <td>202007</td>\n",
       "      <td>66</td>\n",
       "      <td>ABCDEF</td>\n",
       "      <td>2020-07-24</td>\n",
       "      <td>2020-07-24</td>\n",
       "      <td>12:52</td>\n",
       "      <td>Saída</td>\n",
       "      <td>Original</td>\n",
       "      <td>371191951</td>\n",
       "      <td>2020-08-21</td>\n",
       "      <td>2020-08-21</td>\n",
       "      <td>TP1021</td>\n",
       "    </tr>\n",
       "  </tbody>\n",
       "</table>\n",
       "</div>"
      ],
      "text/plain": [
       "   mesref  numfunc    racf         dia  dia_baliza   hora desc_tipo_marcacao  \\\n",
       "0  202007        8  ABCDEF  2020-07-28  2020-07-28  09:48              Saída   \n",
       "1  202008       17  ABCDEF  2020-08-17  2020-08-17  07:03            Entrada   \n",
       "2  202008       93  ABCDEF  2020-08-15  2020-08-15  07:32            Entrada   \n",
       "3  202007       85  ABCDEF  2020-07-24  2020-07-24  17:04            Entrada   \n",
       "4  202007       66  ABCDEF  2020-07-24  2020-07-24  12:52              Saída   \n",
       "\n",
       "  desc_tipo_registro     deptid    database dt_venc_acordo  codigo  \n",
       "0           Incluído  475946331  2020-08-21     2020-08-21  TP1021  \n",
       "1           Original  684105844  2020-08-21     2020-08-21  TP1021  \n",
       "2           Incluído  840635800  2020-08-21     2020-08-21  TP1021  \n",
       "3           Incluído  761996758  2020-08-21     2020-08-21  TP1021  \n",
       "4           Original  371191951  2020-08-21     2020-08-21  TP1021  "
      ]
     },
     "execution_count": 2,
     "metadata": {},
     "output_type": "execute_result"
    }
   ],
   "source": [
    "# Raw data - PONTO\n",
    "cols = ['mesref', 'numfunc', 'racf', 'dia', 'dia_baliza', 'hora', 'desc_tipo_marcacao', 'desc_tipo_registro',\n",
    "        'deptid', 'database', 'dt_venc_acordo', 'codigo']\n",
    "df_ponto = pd.DataFrame(columns=cols)\n",
    "df_ponto\n",
    "\n",
    "# Definindo parâmetros\n",
    "nrows = 100000\n",
    "\n",
    "# Gerando dados aleatórios para mesref\n",
    "mesref = np.random.choice([202007, 202008], nrows)\n",
    "\n",
    "# Gerando dados aleatórios para numfunc\n",
    "numfunc = np.random.randint(1, 100, nrows)\n",
    "\n",
    "# Gerando dados aleatórios para racf\n",
    "racf = np.array(['ABCDEF'] * nrows)\n",
    "\n",
    "# Gerando dados aleatórios para dia e dia_baliza\n",
    "dia = [str(data)[:4] + '-' + str(data)[4:6] + '-' + str(data)[6:] for data in \\\n",
    "        [mes * 100 + np.random.randint(1, 31) for mes in mesref]]\n",
    "dia_baliza = dia\n",
    "\n",
    "# Gerando dados aleatórios para hora\n",
    "hora_temp = [str(np.random.randint(7, 19)) + ':' + str(np.random.randint(1, 60)) for i in range(nrows)]\n",
    "hora = []\n",
    "for h in hora_temp:\n",
    "    if len(h.split(':')[0]) == 1:\n",
    "        h = '0' + h\n",
    "    if len(h.split(':')[1]) == 1:\n",
    "        h = h.split(':')[0] + ':' + '0' + h.split(':')[1]\n",
    "    hora.append(h)\n",
    "    \n",
    "# Gerando dados aleatórios para desc_tipo_marcacao e desc_tipo_registro\n",
    "desc_tipo_marcacao = np.random.choice(['Entrada', 'Saída'], nrows)\n",
    "desc_tipo_registro = np.random.choice(['Original', 'Incluído'], nrows)\n",
    "\n",
    "# Gerando dados aleatórios para deptid\n",
    "deptid = np.random.randint(1000000, 999999999, nrows)\n",
    "\n",
    "# Gerando dados aleatórios para database\n",
    "database = ['2020-08-21'] * nrows\n",
    "\n",
    "# Gerando dados aleatórios para dt_venc_acordo\n",
    "dt_venc_acordo = ['2020-08-21'] * nrows\n",
    "\n",
    "# Gerando dados aleatórios para codigo\n",
    "codigo = ['TP1021'] * nrows\n",
    "\n",
    "# Gerando base\n",
    "df_ponto['mesref'] = mesref\n",
    "df_ponto['numfunc'] = numfunc\n",
    "df_ponto['racf'] = racf\n",
    "df_ponto['dia'] = dia\n",
    "df_ponto['dia_baliza'] = dia_baliza\n",
    "df_ponto['hora'] = hora\n",
    "df_ponto['desc_tipo_marcacao'] = desc_tipo_marcacao\n",
    "df_ponto['desc_tipo_registro'] = desc_tipo_registro\n",
    "df_ponto['deptid'] = deptid\n",
    "df_ponto['database'] = database\n",
    "df_ponto['dt_venc_acordo'] = dt_venc_acordo\n",
    "df_ponto['codigo'] = codigo\n",
    "\n",
    "# Salvando base\n",
    "df_ponto.to_csv('../../data/raw_origin/RANDOM_PONTO.csv', index=False)\n",
    "\n",
    "print(df_ponto.shape)\n",
    "df_ponto.head()"
   ]
  },
  {
   "cell_type": "code",
   "execution_count": null,
   "metadata": {},
   "outputs": [],
   "source": []
  }
 ],
 "metadata": {
  "hide_input": false,
  "kernelspec": {
   "display_name": "Python 3",
   "language": "python",
   "name": "python3"
  },
  "language_info": {
   "codemirror_mode": {
    "name": "ipython",
    "version": 3
   },
   "file_extension": ".py",
   "mimetype": "text/x-python",
   "name": "python",
   "nbconvert_exporter": "python",
   "pygments_lexer": "ipython3",
   "version": "3.7.3"
  },
  "toc": {
   "base_numbering": 1,
   "nav_menu": {},
   "number_sections": true,
   "sideBar": true,
   "skip_h1_title": false,
   "title_cell": "Table of Contents",
   "title_sidebar": "Contents",
   "toc_cell": true,
   "toc_position": {},
   "toc_section_display": true,
   "toc_window_display": true
  },
  "varInspector": {
   "cols": {
    "lenName": 16,
    "lenType": 16,
    "lenVar": 40
   },
   "kernels_config": {
    "python": {
     "delete_cmd_postfix": "",
     "delete_cmd_prefix": "del ",
     "library": "var_list.py",
     "varRefreshCmd": "print(var_dic_list())"
    },
    "r": {
     "delete_cmd_postfix": ") ",
     "delete_cmd_prefix": "rm(",
     "library": "var_list.r",
     "varRefreshCmd": "cat(var_dic_list()) "
    }
   },
   "types_to_exclude": [
    "module",
    "function",
    "builtin_function_or_method",
    "instance",
    "_Feature"
   ],
   "window_display": false
  }
 },
 "nbformat": 4,
 "nbformat_minor": 2
}
